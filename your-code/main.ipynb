{
 "cells": [
  {
   "cell_type": "markdown",
   "metadata": {},
   "source": [
    "## Words"
   ]
  },
  {
   "cell_type": "code",
   "execution_count": null,
   "metadata": {},
   "outputs": [],
   "source": [
    "words = ['play', 'filling', 'bar', 'theatre', 'easygoing', 'date', 'lead', 'that', 'story',  'island']"
   ]
  },
  {
   "cell_type": "markdown",
   "metadata": {},
   "source": [
    "**Print every word in upper case**"
   ]
  },
  {
   "cell_type": "code",
   "execution_count": 3,
   "metadata": {},
   "outputs": [
    {
     "name": "stdout",
     "output_type": "stream",
     "text": [
      "PLAY\n",
      "FILLING\n",
      "BAR\n",
      "THEATRE\n",
      "EASYGOING\n",
      "DATE\n",
      "LEAD\n",
      "THAT\n",
      "STORY\n",
      "ISLAND\n"
     ]
    }
   ],
   "source": [
    "# your code here\n",
    "words = ['play', 'filling', 'bar', 'theatre', 'easygoing', 'date', 'lead', 'that', 'story', 'island']\n",
    "for word in words:\n",
    "    print(word.upper())"
   ]
  },
  {
   "cell_type": "markdown",
   "metadata": {},
   "source": [
    "**Create a new list containing only words with 5 or more letters**"
   ]
  },
  {
   "cell_type": "code",
   "execution_count": null,
   "metadata": {},
   "outputs": [
    {
     "name": "stdout",
     "output_type": "stream",
     "text": [
      "['apple', 'banana', 'fruite', 'orange', 'cherry', 'strawbarry', 'tangerine']\n"
     ]
    }
   ],
   "source": [
    "# your code here\n",
    "words = ['apple', 'banana', 'fruite', 'orange', 'cherry', 'kiwi', 'date', 'tangerine']\n",
    "\n",
    "l_words = [word for word in words if len(word) >= 5]\n",
    "\n",
    "print(l_words)"
   ]
  },
  {
   "cell_type": "markdown",
   "metadata": {},
   "source": [
    "**Print the first word starting with \"t\"**"
   ]
  },
  {
   "cell_type": "code",
   "execution_count": 10,
   "metadata": {},
   "outputs": [
    {
     "name": "stdout",
     "output_type": "stream",
     "text": [
      "tangerine\n"
     ]
    }
   ],
   "source": [
    "# your code here\n",
    "for word in words:\n",
    "    if word.startswith('t'):\n",
    "        print(word)"
   ]
  },
  {
   "cell_type": "markdown",
   "metadata": {},
   "source": [
    "## Numbers"
   ]
  },
  {
   "cell_type": "markdown",
   "metadata": {},
   "source": [
    "**Create a list containing the square of every number from 1 to 10**"
   ]
  },
  {
   "cell_type": "code",
   "execution_count": 11,
   "metadata": {},
   "outputs": [
    {
     "name": "stdout",
     "output_type": "stream",
     "text": [
      "[1, 4, 9, 16, 25, 36, 49, 64, 81, 100]\n"
     ]
    }
   ],
   "source": [
    "# your code here\n",
    "squares = [x**2 for x in range(1, 11)]\n",
    "print(squares)"
   ]
  },
  {
   "cell_type": "markdown",
   "metadata": {},
   "source": [
    "**Print a list containing the square of every odd number from 1 to 10**"
   ]
  },
  {
   "cell_type": "code",
   "execution_count": 12,
   "metadata": {},
   "outputs": [
    {
     "name": "stdout",
     "output_type": "stream",
     "text": [
      "[1, 9, 25, 49, 81]\n"
     ]
    }
   ],
   "source": [
    "# your code here\n",
    "odd_squares = [x**2 for x in range(1, 11) if x % 2 != 0]\n",
    "print(odd_squares)"
   ]
  },
  {
   "cell_type": "markdown",
   "metadata": {},
   "source": [
    "**Create a list with the squares of all multiples of 8 below 1000**"
   ]
  },
  {
   "cell_type": "code",
   "execution_count": 13,
   "metadata": {},
   "outputs": [
    {
     "name": "stdout",
     "output_type": "stream",
     "text": [
      "[9, 36, 81, 144, 225, 324, 441, 576, 729, 900, 1089, 1296, 1521, 1764, 2025, 2304, 2601, 2916, 3249, 3600, 3969, 4356, 4761, 5184, 5625, 6084, 6561, 7056, 7569, 8100, 8649, 9216, 9801, 10404, 11025, 11664, 12321, 12996, 13689, 14400, 15129, 15876, 16641, 17424, 18225, 19044, 19881, 20736, 21609, 22500, 23409, 24336, 25281, 26244, 27225, 28224, 29241, 30276, 31329, 32400, 33489, 34596, 35721, 36864, 38025, 39204, 40401, 41616, 42849, 44100, 45369, 46656, 47961, 49284, 50625, 51984, 53361, 54756, 56169, 57600, 59049, 60516, 62001, 63504, 65025, 66564, 68121, 69696, 71289, 72900, 74529, 76176, 77841, 79524, 81225, 82944, 84681, 86436, 88209, 90000, 91809, 93636, 95481, 97344, 99225, 101124, 103041, 104976, 106929, 108900, 110889, 112896, 114921, 116964, 119025, 121104, 123201, 125316, 127449, 129600, 131769, 133956, 136161, 138384, 140625, 142884, 145161, 147456, 149769, 152100, 154449, 156816, 159201, 161604, 164025, 166464, 168921, 171396, 173889, 176400, 178929, 181476, 184041, 186624, 189225, 191844, 194481, 197136, 199809, 202500, 205209, 207936, 210681, 213444, 216225, 219024, 221841, 224676, 227529, 230400, 233289, 236196, 239121, 242064, 245025, 248004, 251001, 254016, 257049, 260100, 263169, 266256, 269361, 272484, 275625, 278784, 281961, 285156, 288369, 291600, 294849, 298116, 301401, 304704, 308025, 311364, 314721, 318096, 321489, 324900, 328329, 331776, 335241, 338724, 342225, 345744, 349281, 352836, 356409, 360000, 363609, 367236, 370881, 374544, 378225, 381924, 385641, 389376, 393129, 396900, 400689, 404496, 408321, 412164, 416025, 419904, 423801, 427716, 431649, 435600, 439569, 443556, 447561, 451584, 455625, 459684, 463761, 467856, 471969, 476100, 480249, 484416, 488601, 492804, 497025, 501264, 505521, 509796, 514089, 518400, 522729, 527076, 531441, 535824, 540225, 544644, 549081, 553536, 558009, 562500, 567009, 571536, 576081, 580644, 585225, 589824, 594441, 599076, 603729, 608400, 613089, 617796, 622521, 627264, 632025, 636804, 641601, 646416, 651249, 656100, 660969, 665856, 670761, 675684, 680625, 685584, 690561, 695556, 700569, 705600, 710649, 715716, 720801, 725904, 731025, 736164, 741321, 746496, 751689, 756900, 762129, 767376, 772641, 777924, 783225, 788544, 793881, 799236, 804609, 810000, 815409, 820836, 826281, 831744, 837225, 842724, 848241, 853776, 859329, 864900, 870489, 876096, 881721, 887364, 893025, 898704, 904401, 910116, 915849, 921600, 927369, 933156, 938961, 944784, 950625, 956484, 962361, 968256, 974169, 980100, 986049, 992016, 998001]\n"
     ]
    }
   ],
   "source": [
    "# your code here\n",
    "multiples_squares = [x**2 for x in range(3, 1000, 3)]\n",
    "print(multiples_squares)"
   ]
  },
  {
   "cell_type": "markdown",
   "metadata": {},
   "source": [
    "## People"
   ]
  },
  {
   "cell_type": "code",
   "execution_count": 31,
   "metadata": {},
   "outputs": [],
   "source": [
    "people = [\n",
    "    {\n",
    "        \"name\": \"Juan\",\n",
    "        \"age\": 34,\n",
    "        \"n_kids\": 2\n",
    "    },\n",
    "    {\n",
    "        \"name\": \"Pepe\",\n",
    "        \"age\": 27,\n",
    "        \"n_kids\": 0\n",
    "    },\n",
    "    {\n",
    "        \"name\": \"Sonia\",\n",
    "        \"age\": 41,\n",
    "        \"n_kids\": 1\n",
    "    },\n",
    "    {\n",
    "        \"name\": \"Lucía\",\n",
    "        \"age\": 22,\n",
    "        \"n_kids\": 2\n",
    "    },\n",
    "    {\n",
    "        \"name\": \"Leo\",\n",
    "        \"age\": 55,\n",
    "        \"n_kids\": 5\n",
    "    }\n",
    "]"
   ]
  },
  {
   "cell_type": "markdown",
   "metadata": {},
   "source": [
    "**How many people are there?**"
   ]
  },
  {
   "cell_type": "code",
   "execution_count": 23,
   "metadata": {},
   "outputs": [
    {
     "name": "stdout",
     "output_type": "stream",
     "text": [
      "5\n"
     ]
    }
   ],
   "source": [
    "# your code here\n",
    "people = len(people)\n",
    "print(people)"
   ]
  },
  {
   "cell_type": "markdown",
   "metadata": {},
   "source": [
    "**How many people have kids**?"
   ]
  },
  {
   "cell_type": "code",
   "execution_count": 32,
   "metadata": {},
   "outputs": [
    {
     "name": "stdout",
     "output_type": "stream",
     "text": [
      "4\n"
     ]
    }
   ],
   "source": [
    "# your code herepeople_with_kids = [person for person in people if person[\"n_kids\"] > 0]\n",
    "people_with_kids = [person for person in people if person[\"n_kids\"] > 0]\n",
    "number_with_kids = len(people_with_kids)\n",
    "print(number_with_kids)"
   ]
  },
  {
   "cell_type": "markdown",
   "metadata": {},
   "source": [
    "**How many kids do they have in total?**"
   ]
  },
  {
   "cell_type": "code",
   "execution_count": 33,
   "metadata": {},
   "outputs": [
    {
     "name": "stdout",
     "output_type": "stream",
     "text": [
      "10\n"
     ]
    }
   ],
   "source": [
    "# your code here\n",
    "total_kids = sum(person[\"n_kids\"] for person in people)\n",
    "print(total_kids)"
   ]
  },
  {
   "cell_type": "markdown",
   "metadata": {},
   "source": [
    "**In a year's time, names ending with \"a\" will have an extra kid. Create a list of dictionaries with people's info in a year's time**"
   ]
  },
  {
   "cell_type": "code",
   "execution_count": 34,
   "metadata": {},
   "outputs": [
    {
     "name": "stdout",
     "output_type": "stream",
     "text": [
      "[{'name': 'Juan', 'age': 35, 'n_kids': 2}, {'name': 'Pepe', 'age': 28, 'n_kids': 0}, {'name': 'Sonia', 'age': 42, 'n_kids': 2}, {'name': 'Lucía', 'age': 23, 'n_kids': 3}, {'name': 'Leo', 'age': 56, 'n_kids': 5}]\n"
     ]
    }
   ],
   "source": [
    "# your code here\n",
    "updated_people = []\n",
    "\n",
    "for person in people:\n",
    "    new_person = person.copy()  \n",
    "    if person[\"name\"].endswith(\"a\"):\n",
    "        new_person[\"n_kids\"] += 1 \n",
    "    new_person[\"age\"] += 1\n",
    "    updated_people.append(new_person)\n",
    "\n",
    "print(updated_people)"
   ]
  }
 ],
 "metadata": {
  "kernelspec": {
   "display_name": "base",
   "language": "python",
   "name": "python3"
  },
  "language_info": {
   "codemirror_mode": {
    "name": "ipython",
    "version": 3
   },
   "file_extension": ".py",
   "mimetype": "text/x-python",
   "name": "python",
   "nbconvert_exporter": "python",
   "pygments_lexer": "ipython3",
   "version": "3.11.7"
  },
  "toc": {
   "base_numbering": 1,
   "nav_menu": {},
   "number_sections": false,
   "sideBar": true,
   "skip_h1_title": false,
   "title_cell": "Table of Contents",
   "title_sidebar": "Contents",
   "toc_cell": false,
   "toc_position": {},
   "toc_section_display": true,
   "toc_window_display": true
  },
  "varInspector": {
   "cols": {
    "lenName": 16,
    "lenType": 16,
    "lenVar": 40
   },
   "kernels_config": {
    "python": {
     "delete_cmd_postfix": "",
     "delete_cmd_prefix": "del ",
     "library": "var_list.py",
     "varRefreshCmd": "print(var_dic_list())"
    },
    "r": {
     "delete_cmd_postfix": ") ",
     "delete_cmd_prefix": "rm(",
     "library": "var_list.r",
     "varRefreshCmd": "cat(var_dic_list()) "
    }
   },
   "types_to_exclude": [
    "module",
    "function",
    "builtin_function_or_method",
    "instance",
    "_Feature"
   ],
   "window_display": false
  }
 },
 "nbformat": 4,
 "nbformat_minor": 4
}
